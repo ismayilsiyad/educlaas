{
  "cells": [
    {
      "cell_type": "code",
      "execution_count": 1,
      "metadata": {
        "_cell_guid": "b1076dfc-b9ad-4769-8c92-a6c4dae69d19",
        "_uuid": "8f2839f25d086af736a60e9eeb907d3b93b6e0e5",
        "execution": {
          "iopub.execute_input": "2020-10-10T16:09:18.237969Z",
          "iopub.status.busy": "2020-10-10T16:09:18.237052Z",
          "iopub.status.idle": "2020-10-10T16:09:26.155506Z",
          "shell.execute_reply": "2020-10-10T16:09:26.154669Z"
        },
        "papermill": {
          "duration": 7.944838,
          "end_time": "2020-10-10T16:09:26.155704",
          "exception": false,
          "start_time": "2020-10-10T16:09:18.210866",
          "status": "completed"
        },
        "tags": [],
        "id": "as2AEOD53cly"
      },
      "outputs": [],
      "source": [
        "import numpy as np # linear algebra\n",
        "import pandas as pd # data processing\n",
        "import matplotlib.pyplot as plt\n",
        "\n",
        "from sklearn.model_selection import train_test_split\n",
        "from sklearn.preprocessing import StandardScaler\n",
        "\n",
        "from keras import Sequential\n",
        "from keras.layers import Dense"
      ]
    },
    {
      "cell_type": "code",
      "execution_count": 2,
      "metadata": {
        "_cell_guid": "79c7e3d0-c299-4dcb-8224-4455121ee9b0",
        "_uuid": "d629ff2d2480ee46fbb7e2d37f6b5fab8052498a",
        "execution": {
          "iopub.execute_input": "2020-10-10T16:09:26.198267Z",
          "iopub.status.busy": "2020-10-10T16:09:26.197436Z",
          "iopub.status.idle": "2020-10-10T16:09:26.231373Z",
          "shell.execute_reply": "2020-10-10T16:09:26.230486Z"
        },
        "papermill": {
          "duration": 0.058685,
          "end_time": "2020-10-10T16:09:26.231528",
          "exception": false,
          "start_time": "2020-10-10T16:09:26.172843",
          "status": "completed"
        },
        "tags": [],
        "id": "jO_XWd-03cl1"
      },
      "outputs": [],
      "source": [
        "data = pd.read_csv('https://raw.githubusercontent.com/ismayilsiyad/educlaas/main/gender_classification_v7%202.csv')"
      ]
    },
    {
      "cell_type": "code",
      "execution_count": 3,
      "metadata": {
        "execution": {
          "iopub.execute_input": "2020-10-10T16:09:26.288199Z",
          "iopub.status.busy": "2020-10-10T16:09:26.284463Z",
          "iopub.status.idle": "2020-10-10T16:09:26.301399Z",
          "shell.execute_reply": "2020-10-10T16:09:26.300663Z"
        },
        "papermill": {
          "duration": 0.05348,
          "end_time": "2020-10-10T16:09:26.301539",
          "exception": false,
          "start_time": "2020-10-10T16:09:26.248059",
          "status": "completed"
        },
        "tags": [],
        "colab": {
          "base_uri": "https://localhost:8080/",
          "height": 206
        },
        "id": "HmDN3aae3cl1",
        "outputId": "6e0777a4-9d72-4fbf-bc5a-8cb180504667"
      },
      "outputs": [
        {
          "output_type": "execute_result",
          "data": {
            "text/plain": [
              "   long_hair  forehead_width_cm  forehead_height_cm  nose_wide  nose_long  \\\n",
              "0          1               11.8                 6.1          1          0   \n",
              "1          0               14.0                 5.4          0          0   \n",
              "2          0               11.8                 6.3          1          1   \n",
              "3          0               14.4                 6.1          0          1   \n",
              "4          1               13.5                 5.9          0          0   \n",
              "\n",
              "   lips_thin  distance_nose_to_lip_long  gender  \n",
              "0          1                          1    Male  \n",
              "1          1                          0  Female  \n",
              "2          1                          1    Male  \n",
              "3          1                          1    Male  \n",
              "4          0                          0  Female  "
            ],
            "text/html": [
              "\n",
              "  <div id=\"df-eadc3c50-ae90-4b2c-a608-d2a3d41c1948\" class=\"colab-df-container\">\n",
              "    <div>\n",
              "<style scoped>\n",
              "    .dataframe tbody tr th:only-of-type {\n",
              "        vertical-align: middle;\n",
              "    }\n",
              "\n",
              "    .dataframe tbody tr th {\n",
              "        vertical-align: top;\n",
              "    }\n",
              "\n",
              "    .dataframe thead th {\n",
              "        text-align: right;\n",
              "    }\n",
              "</style>\n",
              "<table border=\"1\" class=\"dataframe\">\n",
              "  <thead>\n",
              "    <tr style=\"text-align: right;\">\n",
              "      <th></th>\n",
              "      <th>long_hair</th>\n",
              "      <th>forehead_width_cm</th>\n",
              "      <th>forehead_height_cm</th>\n",
              "      <th>nose_wide</th>\n",
              "      <th>nose_long</th>\n",
              "      <th>lips_thin</th>\n",
              "      <th>distance_nose_to_lip_long</th>\n",
              "      <th>gender</th>\n",
              "    </tr>\n",
              "  </thead>\n",
              "  <tbody>\n",
              "    <tr>\n",
              "      <th>0</th>\n",
              "      <td>1</td>\n",
              "      <td>11.8</td>\n",
              "      <td>6.1</td>\n",
              "      <td>1</td>\n",
              "      <td>0</td>\n",
              "      <td>1</td>\n",
              "      <td>1</td>\n",
              "      <td>Male</td>\n",
              "    </tr>\n",
              "    <tr>\n",
              "      <th>1</th>\n",
              "      <td>0</td>\n",
              "      <td>14.0</td>\n",
              "      <td>5.4</td>\n",
              "      <td>0</td>\n",
              "      <td>0</td>\n",
              "      <td>1</td>\n",
              "      <td>0</td>\n",
              "      <td>Female</td>\n",
              "    </tr>\n",
              "    <tr>\n",
              "      <th>2</th>\n",
              "      <td>0</td>\n",
              "      <td>11.8</td>\n",
              "      <td>6.3</td>\n",
              "      <td>1</td>\n",
              "      <td>1</td>\n",
              "      <td>1</td>\n",
              "      <td>1</td>\n",
              "      <td>Male</td>\n",
              "    </tr>\n",
              "    <tr>\n",
              "      <th>3</th>\n",
              "      <td>0</td>\n",
              "      <td>14.4</td>\n",
              "      <td>6.1</td>\n",
              "      <td>0</td>\n",
              "      <td>1</td>\n",
              "      <td>1</td>\n",
              "      <td>1</td>\n",
              "      <td>Male</td>\n",
              "    </tr>\n",
              "    <tr>\n",
              "      <th>4</th>\n",
              "      <td>1</td>\n",
              "      <td>13.5</td>\n",
              "      <td>5.9</td>\n",
              "      <td>0</td>\n",
              "      <td>0</td>\n",
              "      <td>0</td>\n",
              "      <td>0</td>\n",
              "      <td>Female</td>\n",
              "    </tr>\n",
              "  </tbody>\n",
              "</table>\n",
              "</div>\n",
              "    <div class=\"colab-df-buttons\">\n",
              "\n",
              "  <div class=\"colab-df-container\">\n",
              "    <button class=\"colab-df-convert\" onclick=\"convertToInteractive('df-eadc3c50-ae90-4b2c-a608-d2a3d41c1948')\"\n",
              "            title=\"Convert this dataframe to an interactive table.\"\n",
              "            style=\"display:none;\">\n",
              "\n",
              "  <svg xmlns=\"http://www.w3.org/2000/svg\" height=\"24px\" viewBox=\"0 -960 960 960\">\n",
              "    <path d=\"M120-120v-720h720v720H120Zm60-500h600v-160H180v160Zm220 220h160v-160H400v160Zm0 220h160v-160H400v160ZM180-400h160v-160H180v160Zm440 0h160v-160H620v160ZM180-180h160v-160H180v160Zm440 0h160v-160H620v160Z\"/>\n",
              "  </svg>\n",
              "    </button>\n",
              "\n",
              "  <style>\n",
              "    .colab-df-container {\n",
              "      display:flex;\n",
              "      gap: 12px;\n",
              "    }\n",
              "\n",
              "    .colab-df-convert {\n",
              "      background-color: #E8F0FE;\n",
              "      border: none;\n",
              "      border-radius: 50%;\n",
              "      cursor: pointer;\n",
              "      display: none;\n",
              "      fill: #1967D2;\n",
              "      height: 32px;\n",
              "      padding: 0 0 0 0;\n",
              "      width: 32px;\n",
              "    }\n",
              "\n",
              "    .colab-df-convert:hover {\n",
              "      background-color: #E2EBFA;\n",
              "      box-shadow: 0px 1px 2px rgba(60, 64, 67, 0.3), 0px 1px 3px 1px rgba(60, 64, 67, 0.15);\n",
              "      fill: #174EA6;\n",
              "    }\n",
              "\n",
              "    .colab-df-buttons div {\n",
              "      margin-bottom: 4px;\n",
              "    }\n",
              "\n",
              "    [theme=dark] .colab-df-convert {\n",
              "      background-color: #3B4455;\n",
              "      fill: #D2E3FC;\n",
              "    }\n",
              "\n",
              "    [theme=dark] .colab-df-convert:hover {\n",
              "      background-color: #434B5C;\n",
              "      box-shadow: 0px 1px 3px 1px rgba(0, 0, 0, 0.15);\n",
              "      filter: drop-shadow(0px 1px 2px rgba(0, 0, 0, 0.3));\n",
              "      fill: #FFFFFF;\n",
              "    }\n",
              "  </style>\n",
              "\n",
              "    <script>\n",
              "      const buttonEl =\n",
              "        document.querySelector('#df-eadc3c50-ae90-4b2c-a608-d2a3d41c1948 button.colab-df-convert');\n",
              "      buttonEl.style.display =\n",
              "        google.colab.kernel.accessAllowed ? 'block' : 'none';\n",
              "\n",
              "      async function convertToInteractive(key) {\n",
              "        const element = document.querySelector('#df-eadc3c50-ae90-4b2c-a608-d2a3d41c1948');\n",
              "        const dataTable =\n",
              "          await google.colab.kernel.invokeFunction('convertToInteractive',\n",
              "                                                    [key], {});\n",
              "        if (!dataTable) return;\n",
              "\n",
              "        const docLinkHtml = 'Like what you see? Visit the ' +\n",
              "          '<a target=\"_blank\" href=https://colab.research.google.com/notebooks/data_table.ipynb>data table notebook</a>'\n",
              "          + ' to learn more about interactive tables.';\n",
              "        element.innerHTML = '';\n",
              "        dataTable['output_type'] = 'display_data';\n",
              "        await google.colab.output.renderOutput(dataTable, element);\n",
              "        const docLink = document.createElement('div');\n",
              "        docLink.innerHTML = docLinkHtml;\n",
              "        element.appendChild(docLink);\n",
              "      }\n",
              "    </script>\n",
              "  </div>\n",
              "\n",
              "\n",
              "<div id=\"df-f949aec5-cb14-4902-9962-e654cb1540fb\">\n",
              "  <button class=\"colab-df-quickchart\" onclick=\"quickchart('df-f949aec5-cb14-4902-9962-e654cb1540fb')\"\n",
              "            title=\"Suggest charts\"\n",
              "            style=\"display:none;\">\n",
              "\n",
              "<svg xmlns=\"http://www.w3.org/2000/svg\" height=\"24px\"viewBox=\"0 0 24 24\"\n",
              "     width=\"24px\">\n",
              "    <g>\n",
              "        <path d=\"M19 3H5c-1.1 0-2 .9-2 2v14c0 1.1.9 2 2 2h14c1.1 0 2-.9 2-2V5c0-1.1-.9-2-2-2zM9 17H7v-7h2v7zm4 0h-2V7h2v10zm4 0h-2v-4h2v4z\"/>\n",
              "    </g>\n",
              "</svg>\n",
              "  </button>\n",
              "\n",
              "<style>\n",
              "  .colab-df-quickchart {\n",
              "      --bg-color: #E8F0FE;\n",
              "      --fill-color: #1967D2;\n",
              "      --hover-bg-color: #E2EBFA;\n",
              "      --hover-fill-color: #174EA6;\n",
              "      --disabled-fill-color: #AAA;\n",
              "      --disabled-bg-color: #DDD;\n",
              "  }\n",
              "\n",
              "  [theme=dark] .colab-df-quickchart {\n",
              "      --bg-color: #3B4455;\n",
              "      --fill-color: #D2E3FC;\n",
              "      --hover-bg-color: #434B5C;\n",
              "      --hover-fill-color: #FFFFFF;\n",
              "      --disabled-bg-color: #3B4455;\n",
              "      --disabled-fill-color: #666;\n",
              "  }\n",
              "\n",
              "  .colab-df-quickchart {\n",
              "    background-color: var(--bg-color);\n",
              "    border: none;\n",
              "    border-radius: 50%;\n",
              "    cursor: pointer;\n",
              "    display: none;\n",
              "    fill: var(--fill-color);\n",
              "    height: 32px;\n",
              "    padding: 0;\n",
              "    width: 32px;\n",
              "  }\n",
              "\n",
              "  .colab-df-quickchart:hover {\n",
              "    background-color: var(--hover-bg-color);\n",
              "    box-shadow: 0 1px 2px rgba(60, 64, 67, 0.3), 0 1px 3px 1px rgba(60, 64, 67, 0.15);\n",
              "    fill: var(--button-hover-fill-color);\n",
              "  }\n",
              "\n",
              "  .colab-df-quickchart-complete:disabled,\n",
              "  .colab-df-quickchart-complete:disabled:hover {\n",
              "    background-color: var(--disabled-bg-color);\n",
              "    fill: var(--disabled-fill-color);\n",
              "    box-shadow: none;\n",
              "  }\n",
              "\n",
              "  .colab-df-spinner {\n",
              "    border: 2px solid var(--fill-color);\n",
              "    border-color: transparent;\n",
              "    border-bottom-color: var(--fill-color);\n",
              "    animation:\n",
              "      spin 1s steps(1) infinite;\n",
              "  }\n",
              "\n",
              "  @keyframes spin {\n",
              "    0% {\n",
              "      border-color: transparent;\n",
              "      border-bottom-color: var(--fill-color);\n",
              "      border-left-color: var(--fill-color);\n",
              "    }\n",
              "    20% {\n",
              "      border-color: transparent;\n",
              "      border-left-color: var(--fill-color);\n",
              "      border-top-color: var(--fill-color);\n",
              "    }\n",
              "    30% {\n",
              "      border-color: transparent;\n",
              "      border-left-color: var(--fill-color);\n",
              "      border-top-color: var(--fill-color);\n",
              "      border-right-color: var(--fill-color);\n",
              "    }\n",
              "    40% {\n",
              "      border-color: transparent;\n",
              "      border-right-color: var(--fill-color);\n",
              "      border-top-color: var(--fill-color);\n",
              "    }\n",
              "    60% {\n",
              "      border-color: transparent;\n",
              "      border-right-color: var(--fill-color);\n",
              "    }\n",
              "    80% {\n",
              "      border-color: transparent;\n",
              "      border-right-color: var(--fill-color);\n",
              "      border-bottom-color: var(--fill-color);\n",
              "    }\n",
              "    90% {\n",
              "      border-color: transparent;\n",
              "      border-bottom-color: var(--fill-color);\n",
              "    }\n",
              "  }\n",
              "</style>\n",
              "\n",
              "  <script>\n",
              "    async function quickchart(key) {\n",
              "      const quickchartButtonEl =\n",
              "        document.querySelector('#' + key + ' button');\n",
              "      quickchartButtonEl.disabled = true;  // To prevent multiple clicks.\n",
              "      quickchartButtonEl.classList.add('colab-df-spinner');\n",
              "      try {\n",
              "        const charts = await google.colab.kernel.invokeFunction(\n",
              "            'suggestCharts', [key], {});\n",
              "      } catch (error) {\n",
              "        console.error('Error during call to suggestCharts:', error);\n",
              "      }\n",
              "      quickchartButtonEl.classList.remove('colab-df-spinner');\n",
              "      quickchartButtonEl.classList.add('colab-df-quickchart-complete');\n",
              "    }\n",
              "    (() => {\n",
              "      let quickchartButtonEl =\n",
              "        document.querySelector('#df-f949aec5-cb14-4902-9962-e654cb1540fb button');\n",
              "      quickchartButtonEl.style.display =\n",
              "        google.colab.kernel.accessAllowed ? 'block' : 'none';\n",
              "    })();\n",
              "  </script>\n",
              "</div>\n",
              "    </div>\n",
              "  </div>\n"
            ]
          },
          "metadata": {},
          "execution_count": 3
        }
      ],
      "source": [
        "data.head()"
      ]
    },
    {
      "cell_type": "code",
      "execution_count": 4,
      "metadata": {
        "execution": {
          "iopub.execute_input": "2020-10-10T16:09:26.344546Z",
          "iopub.status.busy": "2020-10-10T16:09:26.343376Z",
          "iopub.status.idle": "2020-10-10T16:09:26.358382Z",
          "shell.execute_reply": "2020-10-10T16:09:26.357697Z"
        },
        "papermill": {
          "duration": 0.039597,
          "end_time": "2020-10-10T16:09:26.358522",
          "exception": false,
          "start_time": "2020-10-10T16:09:26.318925",
          "status": "completed"
        },
        "tags": [],
        "colab": {
          "base_uri": "https://localhost:8080/"
        },
        "id": "dXOoYaT_3cl3",
        "outputId": "45160e87-3489-4596-b05f-a90f9dab1141"
      },
      "outputs": [
        {
          "output_type": "stream",
          "name": "stdout",
          "text": [
            "<class 'pandas.core.frame.DataFrame'>\n",
            "RangeIndex: 5001 entries, 0 to 5000\n",
            "Data columns (total 8 columns):\n",
            " #   Column                     Non-Null Count  Dtype  \n",
            "---  ------                     --------------  -----  \n",
            " 0   long_hair                  5001 non-null   int64  \n",
            " 1   forehead_width_cm          5001 non-null   float64\n",
            " 2   forehead_height_cm         5001 non-null   float64\n",
            " 3   nose_wide                  5001 non-null   int64  \n",
            " 4   nose_long                  5001 non-null   int64  \n",
            " 5   lips_thin                  5001 non-null   int64  \n",
            " 6   distance_nose_to_lip_long  5001 non-null   int64  \n",
            " 7   gender                     5001 non-null   object \n",
            "dtypes: float64(2), int64(5), object(1)\n",
            "memory usage: 312.7+ KB\n"
          ]
        }
      ],
      "source": [
        "data.info()"
      ]
    },
    {
      "cell_type": "markdown",
      "metadata": {
        "papermill": {
          "duration": 0.017085,
          "end_time": "2020-10-10T16:09:26.393164",
          "exception": false,
          "start_time": "2020-10-10T16:09:26.376079",
          "status": "completed"
        },
        "tags": [],
        "id": "BDsYAdIh3cl4"
      },
      "source": [
        "### Converting categorical data to numerical"
      ]
    },
    {
      "cell_type": "code",
      "source": [
        "# Check the unique values in the 'gender' column\n",
        "data['gender'].value_counts()"
      ],
      "metadata": {
        "colab": {
          "base_uri": "https://localhost:8080/"
        },
        "id": "w75nzs58Ej5O",
        "outputId": "a572cfc3-e41e-4e5a-c0c2-9328ab12412a"
      },
      "execution_count": 8,
      "outputs": [
        {
          "output_type": "execute_result",
          "data": {
            "text/plain": [
              "Female    2501\n",
              "Male      2500\n",
              "Name: gender, dtype: int64"
            ]
          },
          "metadata": {},
          "execution_count": 8
        }
      ]
    },
    {
      "cell_type": "code",
      "source": [
        "X = data.drop('gender', axis=1)\n",
        "y = data['gender']"
      ],
      "metadata": {
        "id": "La38-Aw2Eaaw"
      },
      "execution_count": 15,
      "outputs": []
    },
    {
      "cell_type": "code",
      "source": [
        "X_train, X_test, y_train, y_test = train_test_split(X, y, test_size=0.2, random_state=1)"
      ],
      "metadata": {
        "id": "bG5YcHQfEdBH"
      },
      "execution_count": 16,
      "outputs": []
    },
    {
      "cell_type": "code",
      "source": [
        "y_train"
      ],
      "metadata": {
        "colab": {
          "base_uri": "https://localhost:8080/"
        },
        "id": "PgHvNRjvFY9L",
        "outputId": "819635d4-95d1-4e8c-c477-b902381cff35"
      },
      "execution_count": 17,
      "outputs": [
        {
          "output_type": "execute_result",
          "data": {
            "text/plain": [
              "1056      Male\n",
              "1686    Female\n",
              "187       Male\n",
              "3840      Male\n",
              "1525      Male\n",
              "         ...  \n",
              "2895      Male\n",
              "2763    Female\n",
              "905     Female\n",
              "3980      Male\n",
              "235       Male\n",
              "Name: gender, Length: 4000, dtype: object"
            ]
          },
          "metadata": {},
          "execution_count": 17
        }
      ]
    },
    {
      "cell_type": "code",
      "source": [
        "from sklearn.preprocessing import LabelEncoder\n",
        "le = LabelEncoder()\n",
        "y_train = le.fit_transform( y_train)\n",
        "y_test = le.fit_transform( y_test)"
      ],
      "metadata": {
        "id": "NYaYXZcuE9rz"
      },
      "execution_count": 18,
      "outputs": []
    },
    {
      "cell_type": "code",
      "source": [
        "y_train"
      ],
      "metadata": {
        "colab": {
          "base_uri": "https://localhost:8080/"
        },
        "id": "IJx9GwOeFg6v",
        "outputId": "2d82c417-743a-406b-c182-f2bb558f5dfc"
      },
      "execution_count": 19,
      "outputs": [
        {
          "output_type": "execute_result",
          "data": {
            "text/plain": [
              "array([1, 0, 1, ..., 0, 1, 1])"
            ]
          },
          "metadata": {},
          "execution_count": 19
        }
      ]
    },
    {
      "cell_type": "markdown",
      "metadata": {
        "papermill": {
          "duration": 0.017334,
          "end_time": "2020-10-10T16:09:26.577086",
          "exception": false,
          "start_time": "2020-10-10T16:09:26.559752",
          "status": "completed"
        },
        "tags": [],
        "id": "VWzjGHTs3cl9"
      },
      "source": [
        "#### Scaling data before passing to nural network"
      ]
    },
    {
      "cell_type": "code",
      "execution_count": 20,
      "metadata": {
        "execution": {
          "iopub.execute_input": "2020-10-10T16:09:26.622264Z",
          "iopub.status.busy": "2020-10-10T16:09:26.621461Z",
          "iopub.status.idle": "2020-10-10T16:09:26.632978Z",
          "shell.execute_reply": "2020-10-10T16:09:26.632147Z"
        },
        "papermill": {
          "duration": 0.038195,
          "end_time": "2020-10-10T16:09:26.633119",
          "exception": false,
          "start_time": "2020-10-10T16:09:26.594924",
          "status": "completed"
        },
        "tags": [],
        "id": "HC4LNfMk3cl-"
      },
      "outputs": [],
      "source": [
        "scaler = StandardScaler()\n",
        "X_train = scaler.fit_transform(X_train)\n",
        "X_test  = scaler.transform(X_test)"
      ]
    },
    {
      "cell_type": "markdown",
      "metadata": {
        "papermill": {
          "duration": 0.018121,
          "end_time": "2020-10-10T16:09:26.715745",
          "exception": false,
          "start_time": "2020-10-10T16:09:26.697624",
          "status": "completed"
        },
        "tags": [],
        "id": "F0R6LNJa3cmB"
      },
      "source": [
        "## Creating ANN"
      ]
    },
    {
      "cell_type": "code",
      "execution_count": 23,
      "metadata": {
        "execution": {
          "iopub.execute_input": "2020-10-10T16:09:26.761294Z",
          "iopub.status.busy": "2020-10-10T16:09:26.760411Z",
          "iopub.status.idle": "2020-10-10T16:09:26.914104Z",
          "shell.execute_reply": "2020-10-10T16:09:26.913324Z"
        },
        "papermill": {
          "duration": 0.18009,
          "end_time": "2020-10-10T16:09:26.914263",
          "exception": false,
          "start_time": "2020-10-10T16:09:26.734173",
          "status": "completed"
        },
        "tags": [],
        "colab": {
          "base_uri": "https://localhost:8080/"
        },
        "id": "TZH54ptr3cmB",
        "outputId": "7dfe3cdf-be68-4e91-d8f6-b8241ed10664"
      },
      "outputs": [
        {
          "output_type": "stream",
          "name": "stdout",
          "text": [
            "Model: \"sequential\"\n",
            "_________________________________________________________________\n",
            " Layer (type)                Output Shape              Param #   \n",
            "=================================================================\n",
            " dense (Dense)               (None, 7)                 56        \n",
            "                                                                 \n",
            " dense_1 (Dense)             (None, 64)                512       \n",
            "                                                                 \n",
            " dense_2 (Dense)             (None, 1)                 65        \n",
            "                                                                 \n",
            "=================================================================\n",
            "Total params: 633 (2.47 KB)\n",
            "Trainable params: 633 (2.47 KB)\n",
            "Non-trainable params: 0 (0.00 Byte)\n",
            "_________________________________________________________________\n"
          ]
        }
      ],
      "source": [
        "model = Sequential()\n",
        "model.add(Dense(7, activation='relu', input_dim=7))\n",
        "model.add(Dense(64, activation='relu'))\n",
        "model.add(Dense(1, activation='sigmoid'))\n",
        "\n",
        "model.summary()"
      ]
    },
    {
      "cell_type": "code",
      "execution_count": 24,
      "metadata": {
        "execution": {
          "iopub.execute_input": "2020-10-10T16:09:26.967243Z",
          "iopub.status.busy": "2020-10-10T16:09:26.962166Z",
          "iopub.status.idle": "2020-10-10T16:09:26.975277Z",
          "shell.execute_reply": "2020-10-10T16:09:26.974461Z"
        },
        "papermill": {
          "duration": 0.041983,
          "end_time": "2020-10-10T16:09:26.975420",
          "exception": false,
          "start_time": "2020-10-10T16:09:26.933437",
          "status": "completed"
        },
        "tags": [],
        "id": "2Kpi8fhb3cmB"
      },
      "outputs": [],
      "source": [
        "model.compile(optimizer='adam',\n",
        "              loss='binary_crossentropy',\n",
        "              metrics=['accuracy'])"
      ]
    },
    {
      "cell_type": "code",
      "execution_count": 26,
      "metadata": {
        "execution": {
          "iopub.execute_input": "2020-10-10T16:09:27.020926Z",
          "iopub.status.busy": "2020-10-10T16:09:27.019982Z",
          "iopub.status.idle": "2020-10-10T16:09:40.490898Z",
          "shell.execute_reply": "2020-10-10T16:09:40.489984Z"
        },
        "papermill": {
          "duration": 13.49652,
          "end_time": "2020-10-10T16:09:40.491052",
          "exception": false,
          "start_time": "2020-10-10T16:09:26.994532",
          "status": "completed"
        },
        "tags": [],
        "colab": {
          "base_uri": "https://localhost:8080/"
        },
        "id": "ZZYZJhDj3cmC",
        "outputId": "4aa472b1-61fc-4c3d-d0e4-654e83733a98"
      },
      "outputs": [
        {
          "output_type": "stream",
          "name": "stdout",
          "text": [
            "Epoch 1/10\n",
            "800/800 [==============================] - 2s 3ms/step - loss: 0.0692 - accuracy: 0.9697 - val_loss: 0.0755 - val_accuracy: 0.9700\n",
            "Epoch 2/10\n",
            "800/800 [==============================] - 2s 2ms/step - loss: 0.0685 - accuracy: 0.9720 - val_loss: 0.0831 - val_accuracy: 0.9630\n",
            "Epoch 3/10\n",
            "800/800 [==============================] - 2s 2ms/step - loss: 0.0689 - accuracy: 0.9697 - val_loss: 0.0802 - val_accuracy: 0.9670\n",
            "Epoch 4/10\n",
            "800/800 [==============================] - 2s 3ms/step - loss: 0.0675 - accuracy: 0.9710 - val_loss: 0.0827 - val_accuracy: 0.9690\n",
            "Epoch 5/10\n",
            "800/800 [==============================] - 3s 4ms/step - loss: 0.0677 - accuracy: 0.9725 - val_loss: 0.0768 - val_accuracy: 0.9670\n",
            "Epoch 6/10\n",
            "800/800 [==============================] - 4s 4ms/step - loss: 0.0670 - accuracy: 0.9685 - val_loss: 0.0778 - val_accuracy: 0.9690\n",
            "Epoch 7/10\n",
            "800/800 [==============================] - 3s 3ms/step - loss: 0.0676 - accuracy: 0.9707 - val_loss: 0.0772 - val_accuracy: 0.9680\n",
            "Epoch 8/10\n",
            "800/800 [==============================] - 2s 2ms/step - loss: 0.0667 - accuracy: 0.9710 - val_loss: 0.0799 - val_accuracy: 0.9680\n",
            "Epoch 9/10\n",
            "800/800 [==============================] - 2s 3ms/step - loss: 0.0665 - accuracy: 0.9715 - val_loss: 0.0757 - val_accuracy: 0.9670\n",
            "Epoch 10/10\n",
            "800/800 [==============================] - 2s 2ms/step - loss: 0.0659 - accuracy: 0.9712 - val_loss: 0.0770 - val_accuracy: 0.9670\n"
          ]
        }
      ],
      "source": [
        "history = model.fit(X_train, y_train, batch_size=5, validation_data=(X_test, y_test), epochs=10, verbose=1)"
      ]
    },
    {
      "cell_type": "code",
      "execution_count": 27,
      "metadata": {
        "execution": {
          "iopub.execute_input": "2020-10-10T16:09:40.722098Z",
          "iopub.status.busy": "2020-10-10T16:09:40.720825Z",
          "iopub.status.idle": "2020-10-10T16:09:40.724398Z",
          "shell.execute_reply": "2020-10-10T16:09:40.724986Z"
        },
        "papermill": {
          "duration": 0.124843,
          "end_time": "2020-10-10T16:09:40.725182",
          "exception": false,
          "start_time": "2020-10-10T16:09:40.600339",
          "status": "completed"
        },
        "tags": [],
        "id": "5_SUJMeK3cmD"
      },
      "outputs": [],
      "source": [
        "def learning_curve(history, epoch):\n",
        "  epoch_range = range(1, epoch+1)\n",
        "  plt.plot(epoch_range, history.history['accuracy'])\n",
        "  plt.plot(epoch_range, history.history['val_accuracy'])\n",
        "  plt.title('Model Accuracy')\n",
        "  plt.ylabel('Accuracy')\n",
        "  plt.xlabel('Epochs')\n",
        "  plt.legend(['Train', 'Val'], loc='upper left')\n",
        "  plt.show()\n",
        "\n",
        "  plt.plot(epoch_range, history.history['loss'])\n",
        "  plt.plot(epoch_range, history.history['val_loss'])\n",
        "  plt.title('Model Loss')\n",
        "  plt.ylabel('loss')\n",
        "  plt.xlabel('Epochs')\n",
        "  plt.legend(['Train', 'Val'], loc='upper left')\n",
        "  plt.show()"
      ]
    },
    {
      "cell_type": "code",
      "execution_count": 28,
      "metadata": {
        "execution": {
          "iopub.execute_input": "2020-10-10T16:09:40.950773Z",
          "iopub.status.busy": "2020-10-10T16:09:40.949756Z",
          "iopub.status.idle": "2020-10-10T16:09:41.372200Z",
          "shell.execute_reply": "2020-10-10T16:09:41.371349Z"
        },
        "papermill": {
          "duration": 0.537847,
          "end_time": "2020-10-10T16:09:41.372344",
          "exception": false,
          "start_time": "2020-10-10T16:09:40.834497",
          "status": "completed"
        },
        "tags": [],
        "id": "f0qx7eDf3cmD",
        "outputId": "acf2f1de-b06e-4acd-b1a8-c6aebd0822d2",
        "colab": {
          "base_uri": "https://localhost:8080/",
          "height": 927
        }
      },
      "outputs": [
        {
          "output_type": "display_data",
          "data": {
            "text/plain": [
              "<Figure size 640x480 with 1 Axes>"
            ],
            "image/png": "[encoded data removed]"
          },
          "metadata": {}
        },
        {
          "output_type": "display_data",
          "data": {
            "text/plain": [
              "<Figure size 640x480 with 1 Axes>"
            ],
            "image/png": "[encoded data removed]"
          },
          "metadata": {}
        }
      ],
      "source": [
        "learning_curve(history, 10)"
      ]
    },
    {
      "cell_type": "code",
      "execution_count": 31,
      "metadata": {
        "execution": {
          "iopub.execute_input": "2020-10-10T16:09:41.599500Z",
          "iopub.status.busy": "2020-10-10T16:09:41.598740Z",
          "iopub.status.idle": "2020-10-10T16:09:41.749896Z",
          "shell.execute_reply": "2020-10-10T16:09:41.750532Z"
        },
        "papermill": {
          "duration": 0.268317,
          "end_time": "2020-10-10T16:09:41.750719",
          "exception": false,
          "start_time": "2020-10-10T16:09:41.482402",
          "status": "completed"
        },
        "tags": [],
        "colab": {
          "base_uri": "https://localhost:8080/"
        },
        "id": "CKsxkHoH3cmE",
        "outputId": "9a90d909-aa49-45ab-f043-ff4c8e30fa95"
      },
      "outputs": [
        {
          "output_type": "stream",
          "name": "stdout",
          "text": [
            "32/32 [==============================] - 0s 3ms/step\n"
          ]
        }
      ],
      "source": [
        "y_pred = model.predict(X_test)"
      ]
    },
    {
      "cell_type": "code",
      "source": [
        "#converting probabilities into 1s and 0s\n",
        "y_pred =np.rint(y_pred)\n",
        "\n",
        "y_pred"
      ],
      "metadata": {
        "colab": {
          "base_uri": "https://localhost:8080/"
        },
        "id": "cEbgm6u3IAms",
        "outputId": "801e027f-b000-4ce3-a633-939634ec7546"
      },
      "execution_count": 33,
      "outputs": [
        {
          "output_type": "execute_result",
          "data": {
            "text/plain": [
              "array([[0.],\n",
              "       [1.],\n",
              "       [0.],\n",
              "       ...,\n",
              "       [1.],\n",
              "       [1.],\n",
              "       [0.]], dtype=float16)"
            ]
          },
          "metadata": {},
          "execution_count": 33
        }
      ]
    },
    {
      "cell_type": "code",
      "source": [
        "from sklearn.metrics import accuracy_score, precision_score, recall_score, confusion_matrix"
      ],
      "metadata": {
        "id": "kKxx_ONiIjdo"
      },
      "execution_count": 35,
      "outputs": []
    },
    {
      "cell_type": "code",
      "source": [
        "accuracy_score(y_test, y_pred)"
      ],
      "metadata": {
        "colab": {
          "base_uri": "https://localhost:8080/"
        },
        "id": "Va4Y_qF6IwyA",
        "outputId": "637bde4b-e857-4fd3-a0a8-7835a4fcf325"
      },
      "execution_count": 36,
      "outputs": [
        {
          "output_type": "execute_result",
          "data": {
            "text/plain": [
              "0.967032967032967"
            ]
          },
          "metadata": {},
          "execution_count": 36
        }
      ]
    },
    {
      "cell_type": "code",
      "execution_count": 37,
      "metadata": {
        "papermill": {
          "duration": 0.114053,
          "end_time": "2020-10-10T16:09:42.220897",
          "exception": false,
          "start_time": "2020-10-10T16:09:42.106844",
          "status": "completed"
        },
        "tags": [],
        "id": "LRJJ5IwA3cmF",
        "colab": {
          "base_uri": "https://localhost:8080/"
        },
        "outputId": "9f8750f8-616b-4e48-aee9-dd2520f25dd7"
      },
      "outputs": [
        {
          "output_type": "execute_result",
          "data": {
            "text/plain": [
              "0.958498023715415"
            ]
          },
          "metadata": {},
          "execution_count": 37
        }
      ],
      "source": [
        "precision_score(y_test, y_pred)"
      ]
    },
    {
      "cell_type": "code",
      "source": [
        "recall_score(y_test, y_pred)"
      ],
      "metadata": {
        "colab": {
          "base_uri": "https://localhost:8080/"
        },
        "id": "f8TlQpnoJDp7",
        "outputId": "5e0e000d-0171-4706-a3f6-5f884cbc0997"
      },
      "execution_count": 38,
      "outputs": [
        {
          "output_type": "execute_result",
          "data": {
            "text/plain": [
              "0.9758551307847082"
            ]
          },
          "metadata": {},
          "execution_count": 38
        }
      ]
    },
    {
      "cell_type": "code",
      "source": [
        "confusion_matrix(y_test, y_pred)"
      ],
      "metadata": {
        "colab": {
          "base_uri": "https://localhost:8080/"
        },
        "id": "K2g7SdAAJG7m",
        "outputId": "e7b9120a-a0d5-41c2-9876-7ec1e6d21bc7"
      },
      "execution_count": 39,
      "outputs": [
        {
          "output_type": "execute_result",
          "data": {
            "text/plain": [
              "array([[483,  21],\n",
              "       [ 12, 485]])"
            ]
          },
          "metadata": {},
          "execution_count": 39
        }
      ]
    }
  ],
  "metadata": {
    "kernelspec": {
      "display_name": "Python 3",
      "language": "python",
      "name": "python3"
    },
    "language_info": {
      "codemirror_mode": {
        "name": "ipython",
        "version": 3
      },
      "file_extension": ".py",
      "mimetype": "text/x-python",
      "name": "python",
      "nbconvert_exporter": "python",
      "pygments_lexer": "ipython3",
      "version": "3.7.6"
    },
    "papermill": {
      "duration": 29.572091,
      "end_time": "2020-10-10T16:09:42.445015",
      "environment_variables": {},
      "exception": null,
      "input_path": "__notebook__.ipynb",
      "output_path": "__notebook__.ipynb",
      "parameters": {},
      "start_time": "2020-10-10T16:09:12.872924",
      "version": "2.1.0"
    },
    "colab": {
      "provenance": []
    }
  },
  "nbformat": 4,
  "nbformat_minor": 0
}